{
 "cells": [
  {
   "cell_type": "code",
   "execution_count": 1,
   "id": "aaf79326",
   "metadata": {},
   "outputs": [
    {
     "name": "stderr",
     "output_type": "stream",
     "text": [
      "/Users/jaceysimpson/Vscode/Alita/venv/lib/python3.10/site-packages/tqdm/auto.py:21: TqdmWarning: IProgress not found. Please update jupyter and ipywidgets. See https://ipywidgets.readthedocs.io/en/stable/user_install.html\n",
      "  from .autonotebook import tqdm as notebook_tqdm\n"
     ]
    }
   ],
   "source": [
    "import pandas as pd\n",
    "import numpy as np\n",
    "from transformers.models.bert import BertTokenizer\n",
    "import os\n",
    "import spacy\n",
    "import torch\n",
    "import torch.nn as nn\n",
    "from transformers.models.t5 import T5ForConditionalGeneration, T5Config\n",
    "\n",
    "nlp = spacy.load(\"en_core_web_sm\")\n",
    "os.chdir('/Users/jaceysimpson/Vscode/Alita')\n",
    "\n",
    "from src.data_processing import DataProcessor\n",
    "from src.model_setup import FineTuningModel"
   ]
  },
  {
   "cell_type": "code",
   "execution_count": null,
   "id": "7cb4392c",
   "metadata": {},
   "outputs": [],
   "source": [
    "data = pd.read_csv('data/fine_tuning_dataset.csv')\n",
    "tokenizer = BertTokenizer.from_pretrained('bert-base-uncased')\n",
    "text_input = data['text input']\n",
    "tokens = text_input.apply(lambda x: tokenizer(x, padding='max_length', truncation=True, max_length=150, return_tensors='pt'))\n",
    "first_token = tokens[0]"
   ]
  },
  {
   "cell_type": "code",
   "execution_count": 2,
   "id": "5d679c88",
   "metadata": {},
   "outputs": [
    {
     "name": "stderr",
     "output_type": "stream",
     "text": [
      "You are using the default legacy behaviour of the <class 'transformers.models.t5.tokenization_t5.T5Tokenizer'>. This is expected, and simply means that the `legacy` (previous) behavior will be used so nothing changes for you. If you want to use the new behaviour, set `legacy=False`. This should only be set if you understand what it means, and thoroughly read the reason why this was added as explained in https://github.com/huggingface/transformers/pull/24565\n"
     ]
    }
   ],
   "source": [
    "processor = DataProcessor()\n",
    "input_ids, attention_mask = processor.process_text_input()\n",
    "numerical_features = processor.process_numerical_features()\n",
    "print(input_ids[0:2])\n",
    "print(numerical_features[0])"
   ]
  },
  {
   "cell_type": "code",
   "execution_count": 3,
   "id": "c7214353",
   "metadata": {},
   "outputs": [
    {
     "name": "stdout",
     "output_type": "stream",
     "text": [
      "tensor([0.4808, 0.2206, 0.0697, 1.0000, 0.6250, 0.8000, 0.5000, 0.1666, 0.2724,\n",
      "        0.4806, 0.6875, 0.9000, 0.7674, 0.7000, 0.2682, 0.6875])\n"
     ]
    }
   ],
   "source": [
    "numerical_features = processor.process_numerical_features()\n",
    "scaled_features = processor.scale_numerical_features()\n",
    "print(scaled_features[0])"
   ]
  },
  {
   "cell_type": "code",
   "execution_count": null,
   "id": "f9a2c34d",
   "metadata": {},
   "outputs": [],
   "source": []
  }
 ],
 "metadata": {
  "kernelspec": {
   "display_name": "venv",
   "language": "python",
   "name": "python3"
  },
  "language_info": {
   "codemirror_mode": {
    "name": "ipython",
    "version": 3
   },
   "file_extension": ".py",
   "mimetype": "text/x-python",
   "name": "python",
   "nbconvert_exporter": "python",
   "pygments_lexer": "ipython3",
   "version": "3.10.0"
  }
 },
 "nbformat": 4,
 "nbformat_minor": 5
}
